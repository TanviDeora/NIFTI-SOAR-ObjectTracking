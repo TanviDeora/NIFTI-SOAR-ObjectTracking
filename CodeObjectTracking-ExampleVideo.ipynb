{
 "cells": [
  {
   "cell_type": "code",
   "execution_count": 1,
   "metadata": {
    "collapsed": true,
    "deletable": true,
    "editable": true
   },
   "outputs": [],
   "source": [
    "import cv2\n",
    "import numpy as np\n",
    "import matplotlib.pyplot as plt\n",
    "%matplotlib inline\n",
    "import matplotlib.animation as animation"
   ]
  },
  {
   "cell_type": "code",
   "execution_count": 2,
   "metadata": {
    "collapsed": true,
    "deletable": true,
    "editable": true
   },
   "outputs": [],
   "source": [
    "# define all functions I use here\n",
    "def extractContour(frame):\n",
    "    mask = cv2.inRange(frame, 150, 255) # pick the brightest spot on the screen\n",
    "    mask = cv2.erode(mask, None, iterations=2)\n",
    "    mask = cv2.dilate(mask, None, iterations=2)\n",
    "    _, contours,hierarchy = cv2.findContours(mask, cv2.RETR_TREE, cv2.CHAIN_APPROX_SIMPLE)\n",
    "    areas = [cv2.contourArea(c) for c in contours]\n",
    "    \n",
    "    # procede only if we find any contours and if the area is bigger than 0\n",
    "    if (len(contours) >= 1) & np.any(areas): \n",
    "        # Find the index of the largest contour\n",
    "        max_index = np.argmax(areas)\n",
    "        cnt=contours[max_index]\n",
    "        \n",
    "        contour = cv2.convexHull(cnt)\n",
    "        M_hull= cv2.moments(contour)\n",
    "        centroid = (int(M_hull[\"m10\"] / M_hull[\"m00\"]), int(M_hull[\"m01\"] / M_hull[\"m00\"]))\n",
    "    # else return and empty contour\n",
    "    else:\n",
    "        contour = ()\n",
    "        centroid = (np.nan, np.nan)\n",
    "    return(contour, centroid)"
   ]
  },
  {
   "cell_type": "markdown",
   "metadata": {
    "deletable": true,
    "editable": true
   },
   "source": [
    "# load your video here"
   ]
  },
  {
   "cell_type": "code",
   "execution_count": 3,
   "metadata": {
    "collapsed": false,
    "deletable": true,
    "editable": true
   },
   "outputs": [
    {
     "name": "stdout",
     "output_type": "stream",
     "text": [
      "121 1280 720 30.0\n"
     ]
    }
   ],
   "source": [
    "path = \"./Example3_clipped.mp4\"\n",
    "\n",
    "cam = cv2.VideoCapture(path)\n",
    "length = int(cam.get(cv2.CAP_PROP_FRAME_COUNT))\n",
    "width  = int(cam.get(cv2.CAP_PROP_FRAME_WIDTH))\n",
    "height = int(cam.get(cv2.CAP_PROP_FRAME_HEIGHT))\n",
    "fps    = cam.get(cv2.CAP_PROP_FPS)\n",
    "\n",
    "print(length, width, height, fps)"
   ]
  },
  {
   "cell_type": "code",
   "execution_count": 4,
   "metadata": {
    "collapsed": false,
    "deletable": true,
    "editable": true
   },
   "outputs": [],
   "source": [
    "# extract all frame to create a background frame\n",
    "imgs = []\n",
    "for ff in range(length):\n",
    "    cam.set(1,ff)\n",
    "    ret, f = cam.read(1)\n",
    "    img = cv2.cvtColor(f, cv2.COLOR_BGR2GRAY)\n",
    "    imgs.append(img)\n",
    "#     print(ret)"
   ]
  },
  {
   "cell_type": "code",
   "execution_count": 5,
   "metadata": {
    "collapsed": false,
    "deletable": true,
    "editable": true
   },
   "outputs": [
    {
     "data": {
      "text/plain": [
       "(121, 720, 1280)"
      ]
     },
     "execution_count": 5,
     "metadata": {},
     "output_type": "execute_result"
    }
   ],
   "source": [
    "imgs_array = np.asarray(imgs)\n",
    "imgs_array.shape"
   ]
  },
  {
   "cell_type": "markdown",
   "metadata": {
    "deletable": true,
    "editable": true
   },
   "source": [
    "# Calculate median to create background image"
   ]
  },
  {
   "cell_type": "code",
   "execution_count": 6,
   "metadata": {
    "collapsed": false,
    "deletable": true,
    "editable": true
   },
   "outputs": [
    {
     "data": {
      "text/plain": [
       "<matplotlib.image.AxesImage at 0x264caa96668>"
      ]
     },
     "execution_count": 6,
     "metadata": {},
     "output_type": "execute_result"
    },
    {
     "data": {
      "image/png": "[encoded data removed]",
      "text/plain": [
       "<matplotlib.figure.Figure at 0x264c9710710>"
      ]
     },
     "metadata": {},
     "output_type": "display_data"
    }
   ],
   "source": [
    "median_blank=np.median(imgs_array, axis=0)\n",
    "plt.imshow(median_blank, cmap = 'gray')"
   ]
  },
  {
   "cell_type": "markdown",
   "metadata": {
    "deletable": true,
    "editable": true
   },
   "source": [
    "# Subtract the background from all images"
   ]
  },
  {
   "cell_type": "code",
   "execution_count": 7,
   "metadata": {
    "collapsed": false,
    "deletable": true,
    "editable": true
   },
   "outputs": [],
   "source": [
    "Subtracted_imgs = abs(imgs_array - median_blank) \n",
    "# used absolute because it was a light background with dark object (I inverted the range)"
   ]
  },
  {
   "cell_type": "code",
   "execution_count": 8,
   "metadata": {
    "collapsed": false,
    "deletable": true,
    "editable": true
   },
   "outputs": [
    {
     "data": {
      "text/plain": [
       "(array([  9.10095000e+05,   9.60000000e+01,   5.70000000e+01,\n",
       "          6.10000000e+01,   5.50000000e+01,   5.10000000e+01,\n",
       "          7.50000000e+01,   8.30000000e+01,   9.50000000e+01,\n",
       "          1.09320000e+04]),\n",
       " array([   0. ,   24.8,   49.6,   74.4,   99.2,  124. ,  148.8,  173.6,\n",
       "         198.4,  223.2,  248. ]),\n",
       " <a list of 10 Patch objects>)"
      ]
     },
     "execution_count": 8,
     "metadata": {},
     "output_type": "execute_result"
    },
    {
     "data": {
      "image/png": "[encoded data removed]",
      "text/plain": [
       "<matplotlib.figure.Figure at 0x264caaaa278>"
      ]
     },
     "metadata": {},
     "output_type": "display_data"
    }
   ],
   "source": [
    "fig, ax = plt.subplots(2,4, figsize = (20,6))\n",
    "\n",
    "ax[0,0].imshow(imgs_array[1])\n",
    "ax[0,1].hist(imgs_array[1].ravel())\n",
    "ax[0,2].imshow(Subtracted_imgs[1])\n",
    "ax[0,3].hist(Subtracted_imgs[1].ravel())\n",
    "\n",
    "ax[1,0].imshow(imgs_array[100])\n",
    "ax[1,1].hist(imgs_array[100].ravel())\n",
    "ax[1,2].imshow(Subtracted_imgs[100])\n",
    "ax[1,3].hist(Subtracted_imgs[100].ravel())"
   ]
  },
  {
   "cell_type": "markdown",
   "metadata": {
    "deletable": true,
    "editable": true
   },
   "source": [
    "# extract all the contour and detect brightest object"
   ]
  },
  {
   "cell_type": "code",
   "execution_count": 9,
   "metadata": {
    "collapsed": false,
    "deletable": true,
    "editable": true
   },
   "outputs": [],
   "source": [
    "contour = []\n",
    "centroid = []\n",
    "for frames in Subtracted_imgs:\n",
    "    cont, cent =extractContour(frames)\n",
    "    contour.append(cont)\n",
    "    centroid.append(cent)"
   ]
  },
  {
   "cell_type": "markdown",
   "metadata": {},
   "source": [
    "# draw the center and contour for each image"
   ]
  },
  {
   "cell_type": "code",
   "execution_count": 10,
   "metadata": {
    "collapsed": false,
    "deletable": true,
    "editable": true
   },
   "outputs": [
    {
     "data": {
      "text/plain": [
       "<matplotlib.image.AxesImage at 0x264811fc630>"
      ]
     },
     "execution_count": 10,
     "metadata": {},
     "output_type": "execute_result"
    },
    {
     "data": {
      "image/png": "[encoded data removed]",
      "text/plain": [
       "<matplotlib.figure.Figure at 0x264caafacc0>"
      ]
     },
     "metadata": {},
     "output_type": "display_data"
    }
   ],
   "source": [
    "ff=[]\n",
    "for frame in range(len(imgs_array)):\n",
    "    cam.set(1,frame)\n",
    "    ret, f = cam.read(1)\n",
    "    img = cv2.cvtColor(f, cv2.COLOR_BGR2GRAY)\n",
    "    cv2.drawContours(f,[contour[frame]],0,(0,69,255),4)\n",
    "    cv2.circle(f, centroid[frame], 10, (200,200,0), -1)\n",
    "    ff.append(f)\n",
    "\n",
    "frame = 100\n",
    "plt.imshow(ff[frame])"
   ]
  },
  {
   "cell_type": "markdown",
   "metadata": {},
   "source": [
    "# Define the codec and create VideoWriter object\n",
    "you will have to pick the codec and compression on the window that opens up"
   ]
  },
  {
   "cell_type": "code",
   "execution_count": 14,
   "metadata": {
    "collapsed": false,
    "deletable": true,
    "editable": true
   },
   "outputs": [],
   "source": [
    "out = cv2.VideoWriter('Example3_output.avi', -1, 20.0, (width,height))\n",
    "\n",
    "for frame in ff:\n",
    "        out.write(frame)\n",
    "        cv2.imshow('frame',frame)\n",
    "        if cv2.waitKey(1) & 0xFF == ord('q'):\n",
    "            break\n",
    "# Release everything if job is finished\n",
    "out.release()\n",
    "cv2.destroyAllWindows()"
   ]
  },
  {
   "cell_type": "code",
   "execution_count": null,
   "metadata": {
    "collapsed": true
   },
   "outputs": [],
   "source": []
  }
 ],
 "metadata": {
  "kernelspec": {
   "display_name": "Python 3",
   "language": "python",
   "name": "python3"
  },
  "language_info": {
   "codemirror_mode": {
    "name": "ipython",
    "version": 3
   },
   "file_extension": ".py",
   "mimetype": "text/x-python",
   "name": "python",
   "nbconvert_exporter": "python",
   "pygments_lexer": "ipython3",
   "version": "3.6.0"
  }
 },
 "nbformat": 4,
 "nbformat_minor": 2
}
